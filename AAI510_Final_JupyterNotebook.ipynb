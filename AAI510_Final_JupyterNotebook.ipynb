{
  "cells": [
    {
      "cell_type": "markdown",
      "metadata": {},
      "source": [
        "# New York City AirBnB Data Modeling and Analysis"
      ]
    },
    {
      "cell_type": "markdown",
      "metadata": {},
      "source": [
        "Made for the University of San Diego\n",
        "Course: AAI-510 (Machine learning: Fundamentals and Applications)\n",
        "Professor: Wesley Pasfield, MS\n",
        "\n",
        "By - Doug Code (dcode15), Subhabrata Ganguli (suvoganguli), Jeffrey Lehrer (J-Lehrer)"
      ]
    },
    {
      "cell_type": "markdown",
      "metadata": {
        "id": "5f28gG-djkTS"
      },
      "source": [
        "# Problem statement and justification for the proposed approach.\n"
      ]
    },
    {
      "cell_type": "markdown",
      "metadata": {
        "id": "oqniy4ov2GGS"
      },
      "source": [
        "Business understanding - What does the business need?\n",
        "\n",
        "\n"
      ]
    },
    {
      "cell_type": "markdown",
      "metadata": {
        "id": "-5cZtDOajvQx"
      },
      "source": [
        "# Data understanding (EDA) – a graphical and non-graphical representation of relationships between the response variable and predictor variables.\n"
      ]
    },
    {
      "cell_type": "markdown",
      "metadata": {
        "id": "e4AMkJsL3KBX"
      },
      "source": [
        "Data understanding - What data do we have/need? Is it clean?\n"
      ]
    },
    {
      "cell_type": "markdown",
      "metadata": {
        "id": "eJKIFPGLj2qK"
      },
      "source": [
        "# Data preparation.\n"
      ]
    },
    {
      "cell_type": "markdown",
      "metadata": {
        "id": "aeGhtWB73Nd8"
      },
      "source": [
        "Data preparation - How do we organize the data for modeling?\n"
      ]
    },
    {
      "cell_type": "markdown",
      "metadata": {
        "id": "gmMvygRXj-97"
      },
      "source": [
        "# Feature engineering – data pre-processing – missing values, outliers, etc.\n"
      ]
    },
    {
      "cell_type": "markdown",
      "metadata": {
        "id": "Wtv-LeM-kBwB"
      },
      "source": [
        "# Feature Selection – how were the features selected based on the data analysis?\n"
      ]
    },
    {
      "cell_type": "markdown",
      "metadata": {
        "id": "Qw-0mO7TkG_j"
      },
      "source": [
        "# Modeling – selection, comparison, tuning, and analysis – consider ensembles.\n"
      ]
    },
    {
      "cell_type": "markdown",
      "metadata": {
        "id": "DoEX3aoy3Qn-"
      },
      "source": [
        "\n",
        "Modeling - What modeling techniques should we apply?\n",
        "\n"
      ]
    },
    {
      "cell_type": "markdown",
      "metadata": {
        "id": "Boqf4mpXkKc6"
      },
      "source": [
        "# Evaluation – performance measures, results, and conclusions.\n"
      ]
    },
    {
      "cell_type": "markdown",
      "metadata": {
        "id": "0DAUFMOh3TE5"
      },
      "source": [
        "Evaluation - Which model best meets the business objectives?"
      ]
    },
    {
      "cell_type": "markdown",
      "metadata": {
        "id": "32-NFoYNkOTv"
      },
      "source": [
        "# Discussion and conclusions – address the problem statement and recommendation."
      ]
    },
    {
      "cell_type": "markdown",
      "metadata": {
        "id": "gha5DOak3WOv"
      },
      "source": [
        "Deployment - How to get the model in production and ensure it works?"
      ]
    },
    {
      "cell_type": "markdown",
      "metadata": {
        "id": "_4_41USUiryi"
      },
      "source": [
        "# References and Sources"
      ]
    },
    {
      "cell_type": "markdown",
      "metadata": {
        "id": "dSFgmYwOixQb"
      },
      "source": [
        "GitHub link: https://github.com/suvoganguli/AAI510_FinalProject\n",
        "\n"
      ]
    }
  ],
  "metadata": {
    "colab": {
      "provenance": []
    },
    "kernelspec": {
      "display_name": "Python 3",
      "name": "python3"
    },
    "language_info": {
      "name": "python",
      "version": "3.12.3"
    }
  },
  "nbformat": 4,
  "nbformat_minor": 0
}
