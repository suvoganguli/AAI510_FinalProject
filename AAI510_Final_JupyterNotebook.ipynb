{
  "nbformat": 4,
  "nbformat_minor": 0,
  "metadata": {
    "colab": {
      "provenance": []
    },
    "kernelspec": {
      "name": "python3",
      "display_name": "Python 3"
    },
    "language_info": {
      "name": "python"
    }
  },
  "cells": [
    {
      "cell_type": "markdown",
      "source": [
        "#Problem statement and justification for the proposed approach.\n"
      ],
      "metadata": {
        "id": "5f28gG-djkTS"
      }
    },
    {
      "cell_type": "markdown",
      "source": [
        "Business understanding - What does the business need?\n",
        "\n",
        "\n"
      ],
      "metadata": {
        "id": "oqniy4ov2GGS"
      }
    },
    {
      "cell_type": "markdown",
      "source": [
        "#Data understanding (EDA) – a graphical and non-graphical representation of relationships between the response variable and predictor variables.\n"
      ],
      "metadata": {
        "id": "-5cZtDOajvQx"
      }
    },
    {
      "cell_type": "markdown",
      "source": [
        "Data understanding - What data do we have/need? Is it clean?\n"
      ],
      "metadata": {
        "id": "e4AMkJsL3KBX"
      }
    },
    {
      "cell_type": "markdown",
      "source": [
        "#Data preparation.\n"
      ],
      "metadata": {
        "id": "eJKIFPGLj2qK"
      }
    },
    {
      "cell_type": "markdown",
      "source": [
        "Data preparation - How do we organize the data for modeling?\n"
      ],
      "metadata": {
        "id": "aeGhtWB73Nd8"
      }
    },
    {
      "cell_type": "markdown",
      "source": [
        "#Feature engineering – data pre-processing – missing values, outliers, etc.\n"
      ],
      "metadata": {
        "id": "gmMvygRXj-97"
      }
    },
    {
      "cell_type": "markdown",
      "source": [
        "#Feature Selection – how were the features selected based on the data analysis?\n"
      ],
      "metadata": {
        "id": "Wtv-LeM-kBwB"
      }
    },
    {
      "cell_type": "markdown",
      "source": [
        "#Modeling – selection, comparison, tuning, and analysis – consider ensembles.\n"
      ],
      "metadata": {
        "id": "Qw-0mO7TkG_j"
      }
    },
    {
      "cell_type": "markdown",
      "source": [
        "\n",
        "Modeling - What modeling techniques should we apply?\n",
        "\n"
      ],
      "metadata": {
        "id": "DoEX3aoy3Qn-"
      }
    },
    {
      "cell_type": "markdown",
      "source": [
        "#Evaluation – performance measures, results, and conclusions.\n"
      ],
      "metadata": {
        "id": "Boqf4mpXkKc6"
      }
    },
    {
      "cell_type": "markdown",
      "source": [
        "Evaluation - Which model best meets the business objectives?"
      ],
      "metadata": {
        "id": "0DAUFMOh3TE5"
      }
    },
    {
      "cell_type": "markdown",
      "source": [
        "#Discussion and conclusions – address the problem statement and recommendation."
      ],
      "metadata": {
        "id": "32-NFoYNkOTv"
      }
    },
    {
      "cell_type": "markdown",
      "source": [
        "Deployment - How to get the model in production and ensure it works?"
      ],
      "metadata": {
        "id": "gha5DOak3WOv"
      }
    },
    {
      "cell_type": "markdown",
      "source": [
        "# References and Sources"
      ],
      "metadata": {
        "id": "_4_41USUiryi"
      }
    },
    {
      "cell_type": "markdown",
      "source": [
        "GitHub link: https://github.com/suvoganguli/AAI510_FinalProject\n",
        "\n"
      ],
      "metadata": {
        "id": "dSFgmYwOixQb"
      }
    }
  ]
}